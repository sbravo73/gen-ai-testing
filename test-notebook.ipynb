{
 "cells": [
  {
   "cell_type": "code",
   "execution_count": 9,
   "metadata": {},
   "outputs": [
    {
     "name": "stdout",
     "output_type": "stream",
     "text": [
      "It looks like you're referencing the beginning of \"The Star-Spangled Banner,\" the national anthem of the United States. Would you like to know more about its history or significance?\n"
     ]
    }
   ],
   "source": [
    "# The OpenAI SDK was updated on Nov 8, 2023 with new guidance for migration\n",
    "# See: https://github.com/openai/openai-python/discussions/742\n",
    "\n",
    "## Updated\n",
    "import os\n",
    "from openai import AzureOpenAI\n",
    "from dotenv import load_dotenv\n",
    "load_dotenv()\n",
    "\n",
    "client = AzureOpenAI(\n",
    "  api_key=os.environ['AZURE_OPENAI_API_KEY'],  # this is also the default, it can be omitted\n",
    "  azure_endpoint=os.environ['AZURE_OPENAI_ENDPOINT'],\n",
    "  api_version = \"2024-06-01\"\n",
    "  )\n",
    "\n",
    "deployment=os.environ['AZURE_OPENAI_DEPLOYMENT']"
   ]
  },
  {
   "cell_type": "code",
   "execution_count": 29,
   "metadata": {},
   "outputs": [],
   "source": [
    "def get_completion(system_prompt, user_prompt):\n",
    "    messages = [{\"role\": \"system\", \"content\": system_prompt},\n",
    "                {\"role\": \"user\", \"content\": user_prompt}]       \n",
    "    response = client.chat.completions.create(   \n",
    "        model=deployment,                                         \n",
    "        messages=messages,\n",
    "        temperature=0.5, # this is the degree of randomness of the model's output\n",
    "        max_tokens=1024\n",
    "    )\n",
    "    return response.choices[0].message.content\n"
   ]
  },
  {
   "cell_type": "code",
   "execution_count": 30,
   "metadata": {},
   "outputs": [],
   "source": [
    "import pandas as pd\n",
    "forecast_df = pd.DataFrame({'Record_ID':[1,2,3,4,5],\n",
    "                            'Unit_Cost':[10,20,30,40,50],\n",
    "                            'Number of Units':[10,80,8,5,8]})\n",
    "forecast_df['Total Cost'] =forecast_df['Unit_Cost']*forecast_df['Number of Units']\n",
    "\n",
    "actuals_df = pd.DataFrame({'Record_ID':[1,2,3,4,5],\n",
    "                            'Unit_Cost':[8,22,25,42,48],\n",
    "                            'Number of Units':[8,70,9,7,9]})\n",
    "\n",
    "actuals_df['Total Cost'] = actuals_df['Unit_Cost']*actuals_df['Number of Units']"
   ]
  },
  {
   "cell_type": "code",
   "execution_count": 27,
   "metadata": {},
   "outputs": [
    {
     "data": {
      "text/html": [
       "<div>\n",
       "<style scoped>\n",
       "    .dataframe tbody tr th:only-of-type {\n",
       "        vertical-align: middle;\n",
       "    }\n",
       "\n",
       "    .dataframe tbody tr th {\n",
       "        vertical-align: top;\n",
       "    }\n",
       "\n",
       "    .dataframe thead th {\n",
       "        text-align: right;\n",
       "    }\n",
       "</style>\n",
       "<table border=\"1\" class=\"dataframe\">\n",
       "  <thead>\n",
       "    <tr style=\"text-align: right;\">\n",
       "      <th></th>\n",
       "      <th>Record_ID</th>\n",
       "      <th>Unit_Cost</th>\n",
       "      <th>Number of Units</th>\n",
       "      <th>Total Cost</th>\n",
       "    </tr>\n",
       "  </thead>\n",
       "  <tbody>\n",
       "    <tr>\n",
       "      <th>0</th>\n",
       "      <td>1</td>\n",
       "      <td>10</td>\n",
       "      <td>10</td>\n",
       "      <td>100</td>\n",
       "    </tr>\n",
       "    <tr>\n",
       "      <th>1</th>\n",
       "      <td>2</td>\n",
       "      <td>20</td>\n",
       "      <td>80</td>\n",
       "      <td>1600</td>\n",
       "    </tr>\n",
       "    <tr>\n",
       "      <th>2</th>\n",
       "      <td>3</td>\n",
       "      <td>30</td>\n",
       "      <td>8</td>\n",
       "      <td>240</td>\n",
       "    </tr>\n",
       "    <tr>\n",
       "      <th>3</th>\n",
       "      <td>4</td>\n",
       "      <td>40</td>\n",
       "      <td>5</td>\n",
       "      <td>200</td>\n",
       "    </tr>\n",
       "    <tr>\n",
       "      <th>4</th>\n",
       "      <td>5</td>\n",
       "      <td>50</td>\n",
       "      <td>8</td>\n",
       "      <td>400</td>\n",
       "    </tr>\n",
       "  </tbody>\n",
       "</table>\n",
       "</div>"
      ],
      "text/plain": [
       "   Record_ID  Unit_Cost  Number of Units  Total Cost\n",
       "0          1         10               10         100\n",
       "1          2         20               80        1600\n",
       "2          3         30                8         240\n",
       "3          4         40                5         200\n",
       "4          5         50                8         400"
      ]
     },
     "execution_count": 27,
     "metadata": {},
     "output_type": "execute_result"
    }
   ],
   "source": [
    "forecast_df.head()"
   ]
  },
  {
   "cell_type": "code",
   "execution_count": 28,
   "metadata": {},
   "outputs": [
    {
     "data": {
      "text/html": [
       "<div>\n",
       "<style scoped>\n",
       "    .dataframe tbody tr th:only-of-type {\n",
       "        vertical-align: middle;\n",
       "    }\n",
       "\n",
       "    .dataframe tbody tr th {\n",
       "        vertical-align: top;\n",
       "    }\n",
       "\n",
       "    .dataframe thead th {\n",
       "        text-align: right;\n",
       "    }\n",
       "</style>\n",
       "<table border=\"1\" class=\"dataframe\">\n",
       "  <thead>\n",
       "    <tr style=\"text-align: right;\">\n",
       "      <th></th>\n",
       "      <th>Record_ID</th>\n",
       "      <th>Unit_Cost</th>\n",
       "      <th>Number of Units</th>\n",
       "      <th>Total Cost</th>\n",
       "    </tr>\n",
       "  </thead>\n",
       "  <tbody>\n",
       "    <tr>\n",
       "      <th>0</th>\n",
       "      <td>1</td>\n",
       "      <td>8</td>\n",
       "      <td>8</td>\n",
       "      <td>64</td>\n",
       "    </tr>\n",
       "    <tr>\n",
       "      <th>1</th>\n",
       "      <td>2</td>\n",
       "      <td>22</td>\n",
       "      <td>70</td>\n",
       "      <td>1540</td>\n",
       "    </tr>\n",
       "    <tr>\n",
       "      <th>2</th>\n",
       "      <td>3</td>\n",
       "      <td>25</td>\n",
       "      <td>9</td>\n",
       "      <td>225</td>\n",
       "    </tr>\n",
       "    <tr>\n",
       "      <th>3</th>\n",
       "      <td>4</td>\n",
       "      <td>42</td>\n",
       "      <td>7</td>\n",
       "      <td>294</td>\n",
       "    </tr>\n",
       "    <tr>\n",
       "      <th>4</th>\n",
       "      <td>5</td>\n",
       "      <td>48</td>\n",
       "      <td>9</td>\n",
       "      <td>432</td>\n",
       "    </tr>\n",
       "  </tbody>\n",
       "</table>\n",
       "</div>"
      ],
      "text/plain": [
       "   Record_ID  Unit_Cost  Number of Units  Total Cost\n",
       "0          1          8                8          64\n",
       "1          2         22               70        1540\n",
       "2          3         25                9         225\n",
       "3          4         42                7         294\n",
       "4          5         48                9         432"
      ]
     },
     "execution_count": 28,
     "metadata": {},
     "output_type": "execute_result"
    }
   ],
   "source": [
    "actuals_df.head()"
   ]
  },
  {
   "cell_type": "code",
   "execution_count": 31,
   "metadata": {},
   "outputs": [],
   "source": [
    "## ---------- Call the helper method\n",
    "\n",
    "### 1. Set primary content or prompt text\n",
    "system_prompt= f\"\"\"\n",
    "You are a financial analysis assistant.\n",
    "You help by comparing actual and forecast data for financial data, in detail and summarizing results. \n",
    "\"\"\"\n",
    "\n",
    "### 2. Use that in the prompt template below\n",
    "user_prompt = f\"\"\"\n",
    "There are a set of expenses that are compiled under the travel and intertainment General Ledge account.\n",
    "These expenses are composed of unit costs and number of units.\n",
    "\n",
    "There is a forecast (also known as budget) of each item with the following values:\n",
    "{forecast_df.to_dict()}\n",
    "\n",
    "Similarly, actual results were reported with the following values:\n",
    "{actuals_df.to_dict()}\n",
    "\n",
    "Provide a brief analysis of the variance between actuals and forecast, highlighting the main causes of the variance.\n",
    "Call out specific percentages or dollar values.\n",
    "\"\"\""
   ]
  },
  {
   "cell_type": "code",
   "execution_count": 32,
   "metadata": {},
   "outputs": [
    {
     "name": "stdout",
     "output_type": "stream",
     "text": [
      "### Variance Analysis: Travel and Entertainment Expenses\n",
      "\n",
      "#### Overview\n",
      "The analysis compares the forecasted (budgeted) expenses against the actual expenses incurred. The key metrics include Unit Cost, Number of Units, and Total Cost.\n",
      "\n",
      "### Summary of Forecast vs. Actual\n",
      "\n",
      "| Record_ID | Forecast Unit Cost | Actual Unit Cost | Forecast Units | Actual Units | Forecast Total Cost | Actual Total Cost | Variance ($) | Variance (%) |\n",
      "|-----------|---------------------|-------------------|----------------|--------------|---------------------|-------------------|--------------|--------------|\n",
      "| 1         | $10                 | $8                | 10             | 8            | $100                | $64               | -$36         | -36%         |\n",
      "| 2         | $20                 | $22               | 80             | 70           | $1600               | $1540             | -$60         | -3.75%       |\n",
      "| 3         | $30                 | $25               | 8              | 9            | $240                | $225              | -$15         | -6.25%       |\n",
      "| 4         | $40                 | $42               | 5              | 7            | $200                | $294              | +$94         | +47%         |\n",
      "| 5         | $50                 | $48               | 8              | 9            | $400                | $432              | +$32         | +8%          |\n",
      "\n",
      "### Total Summary\n",
      "- **Total Forecasted Cost:** $2,540\n",
      "- **Total Actual Cost:** $2,555\n",
      "- **Total Variance:** +$15 \n",
      "- **Total Variance Percentage:** +0.59%\n",
      "\n",
      "### Key Findings\n",
      "\n",
      "1. **Record 1:** \n",
      "   - **Variance:** -$36 (-36%)\n",
      "   - **Cause:** Lower unit cost and fewer units resulted in significant savings.\n",
      "\n",
      "2. **Record 2:**\n",
      "   - **Variance:** -$60 (-3.75%)\n",
      "   - **Cause:** Slightly higher unit cost but fewer units purchased resulted in a minor savings against forecast.\n",
      "\n",
      "3. **Record 3:** \n",
      "   - **Variance:** -$15 (-6.25%)\n",
      "   - **Cause:** Lower unit cost with a slight increase in units resulted in a small reduction in total cost.\n",
      "\n",
      "4. **Record 4:** \n",
      "   - **Variance:** +$94 (+47%)\n",
      "   - **Cause:** Higher unit cost and more units than forecasted led to a significant overspend.\n",
      "\n",
      "5. **Record 5:** \n",
      "   - **Variance:** +$32 (+8%)\n",
      "   - **Cause:** Slightly lower unit cost but increased units resulted in a modest overspend.\n",
      "\n",
      "### Conclusion\n",
      "Overall, the total actual expenses exceeded the forecast by $15, primarily driven by significant overspending in Record 4. The analysis indicates that while some areas achieved cost savings, others resulted in higher expenditures than planned. Monitoring unit costs and the number of units closely will be essential for future budgeting accuracy.\n"
     ]
    }
   ],
   "source": [
    "response = get_completion(system_prompt,user_prompt)\n",
    "print(response)"
   ]
  },
  {
   "cell_type": "code",
   "execution_count": null,
   "metadata": {},
   "outputs": [],
   "source": []
  }
 ],
 "metadata": {
  "kernelspec": {
   "display_name": "Python 3.12.7 ('venv': venv)",
   "language": "python",
   "name": "python3"
  },
  "language_info": {
   "codemirror_mode": {
    "name": "ipython",
    "version": 3
   },
   "file_extension": ".py",
   "mimetype": "text/x-python",
   "name": "python",
   "nbconvert_exporter": "python",
   "pygments_lexer": "ipython3",
   "version": "3.12.7"
  },
  "orig_nbformat": 4,
  "vscode": {
   "interpreter": {
    "hash": "5f395d33cb24232977fd55a044a09605a799e74ae1cbd3bf1343b7ee0d9b95d4"
   }
  }
 },
 "nbformat": 4,
 "nbformat_minor": 2
}
